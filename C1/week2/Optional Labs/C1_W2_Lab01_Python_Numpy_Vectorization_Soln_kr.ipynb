{
 "cells": [
  {
   "cell_type": "markdown",
   "metadata": {
    "id": "h1rZ0XFMiA0F",
    "pycharm": {
     "name": "#%% md\n"
    }
   },
   "source": [
    "# Optional Lab: Python, NumPy and Vectorization\n",
    "이 과정에서 사용되는 일부 과학 컴퓨팅에 대한 간략한 소개입니다. 특히 NumPy 과학 컴퓨팅 패키지와 Python과의 사용 방법.\n",
    "\n",
    "\n",
    "# Outline\n",
    "- [&nbsp;&nbsp;1.1 Goals](#toc_40015_1.1)\n",
    "- [&nbsp;&nbsp;1.2 Useful References](#toc_40015_1.2)\n",
    "- [2 Python and NumPy <a name='Python and NumPy'></a>](#toc_40015_2)\n",
    "- [3 Vectors](#toc_40015_3)\n",
    "- [&nbsp;&nbsp;3.1 Abstract](#toc_40015_3.1)\n",
    "- [&nbsp;&nbsp;3.2 NumPy Arrays](#toc_40015_3.2)\n",
    "- [&nbsp;&nbsp;3.3 Vector Creation](#toc_40015_3.3)\n",
    "- [&nbsp;&nbsp;3.4 Operations on Vectors](#toc_40015_3.4)\n",
    "- [4 Matrices](#toc_40015_4)\n",
    "- [&nbsp;&nbsp;4.1 Abstract](#toc_40015_4.1)\n",
    "- [&nbsp;&nbsp;4.2 NumPy Arrays](#toc_40015_4.2)\n",
    "- [&nbsp;&nbsp;4.3 Matrix Creation](#toc_40015_4.3)\n",
    "- [&nbsp;&nbsp;4.4 Operations on Matrices](#toc_40015_4.4)"
   ]
  },
  {
   "cell_type": "code",
   "execution_count": 1,
   "metadata": {
    "id": "DH4f2cnHiA0Q",
    "pycharm": {
     "name": "#%%\n"
    }
   },
   "outputs": [],
   "source": [
    "import numpy as np    # it is an unofficial standard to use np for numpy\n",
    "import time"
   ]
  },
  {
   "cell_type": "markdown",
   "metadata": {
    "id": "h6j1DJE2iA0U",
    "pycharm": {
     "name": "#%% md\n"
    }
   },
   "source": [
    "<a name=\"toc_40015_1.1\"></a>\n",
    "## 1.1 Goals\n",
    "이 실습에서는 다음을 수행합니다.\n",
    "- 강좌 1에서 사용된 NumPy와 Python의 특징들을 검토합니다."
   ]
  },
  {
   "cell_type": "markdown",
   "metadata": {
    "id": "gxc6lfIJiA0V",
    "pycharm": {
     "name": "#%% md\n"
    }
   },
   "source": [
    "<a name=\"toc_40015_1.2\"></a>\n",
    "## 1.2 Useful References\n",
    "- NumPy Documentation including a basic introduction: [NumPy.org](https://NumPy.org/doc/stable/)\n",
    "- A challenging feature topic: [NumPy Broadcasting](https://NumPy.org/doc/stable/user/basics.broadcasting.html)\n"
   ]
  },
  {
   "cell_type": "markdown",
   "metadata": {
    "id": "gPMz8JVviA0X",
    "pycharm": {
     "name": "#%% md\n"
    }
   },
   "source": [
    "<a name=\"toc_40015_2\"></a>\n",
    "# 2 Python and NumPy <a name='Python and NumPy'></a>\n",
    "Python은 이번 강좌에서 사용할 프로그래밍 언어입니다. 여기에는 일련의 숫자 데이터 유형과 산술 연산이 있습니다. NumPy는 Python의 기본 기능을 확장하여 더 많은 숫자 유형, 벡터, 행렬 및 많은 행렬 함수를 포함하는 보다 풍부한 데이터 세트를 추가하는 라이브러리입니다. NumPy와 Python은 매우 원활하게 함께 작동합니다. Python 산술 연산자는 NumPy 데이터 유형에서 작동하며, 많은 NumPy 함수는 Python 데이터 유형을 허용합니다."
   ]
  },
  {
   "cell_type": "markdown",
   "metadata": {
    "id": "B1uWRshdiA0Y",
    "pycharm": {
     "name": "#%% md\n"
    }
   },
   "source": [
    "<a name=\"toc_40015_3\"></a>\n",
    "# 3 Vectors\n",
    "<a name=\"toc_40015_3.1\"></a>\n",
    "## 3.1 Abstract\n",
    "<img align=\"right\" src=\"./images/C1_W2_Lab04_Vectors.PNG\" style=\"width:340px;\" >\n",
    "이 과정에서 사용하게 될 벡터는 순서가 지정된 숫자 배열입니다. 표기법에서 벡터는 $\\mathbf{x}$와 같이 굵은 소문자로 표시됩니다. 벡터의 요소는 모두 동일한 유형입니다. 예를 들어 벡터에는 문자와 숫자가 모두 포함되지 않습니다. 수학자들은 *순위(rank)*를 선호하지만 배열의 요소 수는 종종 *차원(dimension)*이라고 합니다. 표시된 벡터의 차원은 $n$입니다. 벡터의 요소는 인덱스로 참조될 수 있습니다. 수학 설정에서 인덱스는 일반적으로 1부터 n까지 실행됩니다. 컴퓨터 과학 및 이러한 실습에서 인덱싱은 일반적으로 0에서 n-1까지 실행됩니다. 표기법에서 벡터의 요소는 개별적으로 참조될 때 아래 첨자의 인덱스를 나타냅니다. 예를 들어 $\\mathbf{x}$ 벡터의 $0^{th}$ 요소는 $x_0$입니다. 이 경우 x는 굵게 표시되지 않습니다."
   ]
  },
  {
   "cell_type": "markdown",
   "metadata": {
    "id": "Xs0PZMSGiA0Z",
    "pycharm": {
     "name": "#%% md\n"
    }
   },
   "source": [
    "<a name=\"toc_40015_3.2\"></a>\n",
    "## 3.2 NumPy Arrays\n",
    "\n",
    "NumPy의 기본 데이터 구조는 동일한 유형(`dtype`)의 요소를 포함하는 색인 가능한, n-차원 *배열(array)*입니다. '차원(dimension)'이라는 용어가 너무 많이 사용되었음을 바로 알 수 있습니다. 위에서는 벡터의 요소 수였지만, 여기서 차원은 배열의 인덱스 수를 나타냅니다. 1-차원 또는 1-D 배열에는 하나의 인덱스가 있습니다. 코스 1에서는 벡터를 NumPy 1-차원 배열로 표현하겠습니다.\n",
    "\n",
    "  - 1-D 배열, shape (n,): [0]부터 [n-1]까지 인덱스가 있는 n개 요소"
   ]
  },
  {
   "cell_type": "markdown",
   "metadata": {
    "id": "Y8Pnqf4tiA0a",
    "pycharm": {
     "name": "#%% md\n"
    }
   },
   "source": [
    "<a name=\"toc_40015_3.3\"></a>\n",
    "## 3.3 Vector Creation\n"
   ]
  },
  {
   "cell_type": "markdown",
   "metadata": {
    "id": "AxP4-yUMiA0c",
    "pycharm": {
     "name": "#%% md\n"
    }
   },
   "source": [
    "NumPy의 데이터 생성 루틴에는 일반적으로 객체의 모양인 첫 번째 매개변수가 있습니다. 이는 1-D 결과에 대한 단일 값이거나, 결과의 모양(shape)을 지정하는 튜플 (n,m,...)일 수 있습니다. 다음은 이러한 루틴을 사용하여 벡터를 생성하는 예입니다."
   ]
  },
  {
   "cell_type": "code",
   "execution_count": 2,
   "metadata": {
    "id": "9HV76ZWgiA0f",
    "outputId": "0a50c497-4ad5-40dc-cd8a-267a99ed2347",
    "pycharm": {
     "name": "#%%\n"
    }
   },
   "outputs": [
    {
     "name": "stdout",
     "output_type": "stream",
     "text": [
      "np.zeros(4) :   a = [0. 0. 0. 0.], a shape = (4,), a data type = float64\n",
      "np.zeros(4,) :  a = [0. 0. 0. 0.], a shape = (4,), a data type = float64\n",
      "np.random.random_sample(4): a = [0.50624638 0.58114379 0.83037724 0.32020282], a shape = (4,), a data type = float64\n"
     ]
    }
   ],
   "source": [
    "# NumPy routines which allocate memory and fill arrays with value\n",
    "a = np.zeros(4);                print(f\"np.zeros(4) :   a = {a}, a shape = {a.shape}, a data type = {a.dtype}\")\n",
    "a = np.zeros((4,));             print(f\"np.zeros(4,) :  a = {a}, a shape = {a.shape}, a data type = {a.dtype}\")\n",
    "a = np.random.random_sample(4); print(f\"np.random.random_sample(4): a = {a}, a shape = {a.shape}, a data type = {a.dtype}\")"
   ]
  },
  {
   "cell_type": "markdown",
   "metadata": {
    "id": "Vn8IBovuiA0h",
    "pycharm": {
     "name": "#%% md\n"
    }
   },
   "source": [
    "일부 데이터 생성 루틴은 모양 튜플(shape tuple)을 사용하지 않습니다.:"
   ]
  },
  {
   "cell_type": "code",
   "execution_count": 3,
   "metadata": {
    "id": "Zb0LtQQuiA0i",
    "outputId": "b922e0cc-699b-4558-cc02-251770baa49b",
    "pycharm": {
     "name": "#%%\n"
    }
   },
   "outputs": [
    {
     "name": "stdout",
     "output_type": "stream",
     "text": [
      "np.arange(4.):     a = [0. 1. 2. 3.], a shape = (4,), a data type = float64\n",
      "np.random.rand(4): a = [0.25990871 0.49866054 0.86927206 0.15077599], a shape = (4,), a data type = float64\n"
     ]
    }
   ],
   "source": [
    "# NumPy routines which allocate memory and fill arrays with value but do not accept shape as input argument\n",
    "a = np.arange(4.);              print(f\"np.arange(4.):     a = {a}, a shape = {a.shape}, a data type = {a.dtype}\")\n",
    "a = np.random.rand(4);          print(f\"np.random.rand(4): a = {a}, a shape = {a.shape}, a data type = {a.dtype}\")"
   ]
  },
  {
   "cell_type": "markdown",
   "metadata": {
    "id": "geIxCGBBiA0o",
    "pycharm": {
     "name": "#%% md\n"
    }
   },
   "source": [
    "값을 수동으로 지정할 수도 있습니다."
   ]
  },
  {
   "cell_type": "code",
   "execution_count": 4,
   "metadata": {
    "id": "kMh1E6DFiA0p",
    "outputId": "c2d5cf09-e7e8-4271-e181-0c05e1adabbf",
    "pycharm": {
     "name": "#%%\n"
    }
   },
   "outputs": [
    {
     "name": "stdout",
     "output_type": "stream",
     "text": [
      "np.array([5,4,3,2]):  a = [5 4 3 2],     a shape = (4,), a data type = int32\n",
      "np.array([5.,4,3,2]): a = [5. 4. 3. 2.], a shape = (4,), a data type = float64\n"
     ]
    }
   ],
   "source": [
    "# NumPy routines which allocate memory and fill with user specified values\n",
    "a = np.array([5,4,3,2]);  print(f\"np.array([5,4,3,2]):  a = {a},     a shape = {a.shape}, a data type = {a.dtype}\")\n",
    "a = np.array([5.,4,3,2]); print(f\"np.array([5.,4,3,2]): a = {a}, a shape = {a.shape}, a data type = {a.dtype}\")"
   ]
  },
  {
   "cell_type": "markdown",
   "metadata": {
    "id": "vXMFycNBiA0p",
    "pycharm": {
     "name": "#%% md\n"
    }
   },
   "source": [
    "이것들은 모두 4개의 요소를 가진 1-D 벡터 'a'를 생성했습니다. `a.shape`는 크기를 반환합니다. 여기서는 4개의 요소가 있는 1-D 배열을 나타내는 a.shape = `(4,)`를 볼 수 있습니다."
   ]
  },
  {
   "cell_type": "markdown",
   "metadata": {
    "id": "eREV7MA5iA0q",
    "pycharm": {
     "name": "#%% md\n"
    }
   },
   "source": [
    "<a name=\"toc_40015_3.4\"></a>\n",
    "## 3.4 Operations on Vectors\n",
    "벡터를 사용한 몇 가지 연산을 살펴보겠습니다.\n",
    "<a name=\"toc_40015_3.4.1\"></a>\n",
    "### 3.4.1 Indexing\n",
    "벡터의 요소는 인덱싱 및 슬라이싱을 통해 액세스할 수 있습니다. NumPy는 매우 완벽한 인덱싱 및 슬라이싱 기능 세트를 제공합니다. 여기서는 강좌에 필요한 기본 사항만 살펴보겠습니다. 자세한 내용은 [슬라이싱 및 인덱싱](https://NumPy.org/doc/stable/reference/arrays.indexing.html)을 참조하세요.\n",
    "**인덱싱(Indexing)** 은 배열 내의 위치를 기준으로 배열의 *요소*를 참조하는 것을 의미합니다.\n",
    "**슬라이싱(Slicing)** 은 인덱스를 기반으로 배열에서 요소의 *하위 집합*을 가져오는 것을 의미합니다.\n",
    "NumPy는 0부터 인덱싱을 시작하므로 벡터 $\\mathbf{a}$의 세 번째 요소는 `a[2]`입니다."
   ]
  },
  {
   "cell_type": "code",
   "execution_count": 6,
   "metadata": {
    "id": "vBWLQKXuiA0r",
    "outputId": "95143b66-9a51-48ad-a634-1338cb7ba21b",
    "pycharm": {
     "name": "#%%\n"
    }
   },
   "outputs": [
    {
     "name": "stdout",
     "output_type": "stream",
     "text": [
      "[0 1 2 3 4 5 6 7 8 9]\n",
      "a[2].shape: () a[2]  = 2, Accessing an element returns a scalar\n",
      "a[-1] = 9\n",
      "The error message you'll see is:\n",
      "index 10 is out of bounds for axis 0 with size 10\n"
     ]
    }
   ],
   "source": [
    "#vector indexing operations on 1-D vectors\n",
    "a = np.arange(10)\n",
    "print(a)\n",
    "\n",
    "#access an element\n",
    "print(f\"a[2].shape: {a[2].shape} a[2]  = {a[2]}, Accessing an element returns a scalar\")\n",
    "\n",
    "# access the last element, negative indexes count from the end\n",
    "print(f\"a[-1] = {a[-1]}\")\n",
    "\n",
    "#indexs must be within the range of the vector or they will produce and error\n",
    "try:\n",
    "    c = a[10]\n",
    "except Exception as e:\n",
    "    print(\"The error message you'll see is:\")\n",
    "    print(e)"
   ]
  },
  {
   "cell_type": "markdown",
   "metadata": {
    "id": "noWafw0CiA0s",
    "pycharm": {
     "name": "#%% md\n"
    }
   },
   "source": [
    "<a name=\"toc_40015_3.4.2\"></a>\n",
    "### 3.4.2 Slicing\n",
    "슬라이싱(Slicing)은 세 가지 값 세트(`start:stop:step`)를 사용하여 인덱스 배열을 생성합니다. 값의 하위 집합도 유효합니다. 그 사용법은 다음 예를 통해 가장 잘 설명됩니다."
   ]
  },
  {
   "cell_type": "code",
   "execution_count": 7,
   "metadata": {
    "id": "mzCKhqH8iA0t",
    "outputId": "c03a25db-6a82-43ab-8774-ad44894ffa76",
    "pycharm": {
     "name": "#%%\n"
    }
   },
   "outputs": [
    {
     "name": "stdout",
     "output_type": "stream",
     "text": [
      "a         = [0 1 2 3 4 5 6 7 8 9]\n",
      "a[2:7:1] =  [2 3 4 5 6]\n",
      "a[2:7:2] =  [2 4 6]\n",
      "a[3:]    =  [3 4 5 6 7 8 9]\n",
      "a[:3]    =  [0 1 2]\n",
      "a[:]     =  [0 1 2 3 4 5 6 7 8 9]\n"
     ]
    }
   ],
   "source": [
    "#vector slicing operations\n",
    "a = np.arange(10)\n",
    "print(f\"a         = {a}\")\n",
    "\n",
    "#access 5 consecutive elements (start:stop:step)\n",
    "c = a[2:7:1];     print(\"a[2:7:1] = \", c)\n",
    "\n",
    "# access 3 elements separated by two\n",
    "c = a[2:7:2];     print(\"a[2:7:2] = \", c)\n",
    "\n",
    "# access all elements index 3 and above\n",
    "c = a[3:];        print(\"a[3:]    = \", c)\n",
    "\n",
    "# access all elements below index 3\n",
    "c = a[:3];        print(\"a[:3]    = \", c)\n",
    "\n",
    "# access all elements\n",
    "c = a[:];         print(\"a[:]     = \", c)"
   ]
  },
  {
   "cell_type": "markdown",
   "metadata": {
    "id": "JDdZz6s3iA0v",
    "pycharm": {
     "name": "#%% md\n"
    }
   },
   "source": [
    "<a name=\"toc_40015_3.4.3\"></a>\n",
    "### 3.4.3 Single vector operations\n",
    "단일 벡터에 대한 연산과 관련된 유용한 연산이 많이 있습니다."
   ]
  },
  {
   "cell_type": "code",
   "execution_count": 8,
   "metadata": {
    "id": "Mb2RQiZMiA0v",
    "outputId": "02e0e2f5-fbe3-4956-9f21-adf03c579afd",
    "pycharm": {
     "name": "#%%\n"
    }
   },
   "outputs": [
    {
     "name": "stdout",
     "output_type": "stream",
     "text": [
      "a             : [1 2 3 4]\n",
      "b = -a        : [-1 -2 -3 -4]\n",
      "b = np.sum(a) : 10\n",
      "b = np.mean(a): 2.5\n",
      "b = a**2      : [ 1  4  9 16]\n"
     ]
    }
   ],
   "source": [
    "a = np.array([1,2,3,4])\n",
    "print(f\"a             : {a}\")\n",
    "# negate elements of a\n",
    "b = -a\n",
    "print(f\"b = -a        : {b}\")\n",
    "\n",
    "# sum all elements of a, returns a scalar\n",
    "b = np.sum(a)\n",
    "print(f\"b = np.sum(a) : {b}\")\n",
    "\n",
    "b = np.mean(a)\n",
    "print(f\"b = np.mean(a): {b}\")\n",
    "\n",
    "b = a**2\n",
    "print(f\"b = a**2      : {b}\")"
   ]
  },
  {
   "cell_type": "markdown",
   "metadata": {
    "id": "uz4LGA7ViA0w",
    "pycharm": {
     "name": "#%% md\n"
    }
   },
   "source": [
    "<a name=\"toc_40015_3.4.4\"></a>\n",
    "### 3.4.4 Vector Vector element-wise operations\n",
    "NumPy 산술, 논리 및 비교 연산의 대부분은 벡터에도 적용됩니다. 이러한 연산자는 요소별로 작동합니다. 예를 들어\n",
    "$$ \\mathbf{a} + \\mathbf{b} = \\sum_{i=0}^{n-1} a_i + b_i $$"
   ]
  },
  {
   "cell_type": "code",
   "execution_count": 9,
   "metadata": {
    "id": "z-Rbi2faiA0w",
    "outputId": "6390d645-7cfb-4ef6-f119-d46ef6ed3a54",
    "pycharm": {
     "name": "#%%\n"
    }
   },
   "outputs": [
    {
     "name": "stdout",
     "output_type": "stream",
     "text": [
      "Binary operators work element wise: [0 0 6 8]\n"
     ]
    }
   ],
   "source": [
    "a = np.array([ 1, 2, 3, 4])\n",
    "b = np.array([-1,-2, 3, 4])\n",
    "print(f\"Binary operators work element wise: {a + b}\")"
   ]
  },
  {
   "cell_type": "markdown",
   "metadata": {
    "id": "HnWdzA6-iA0x",
    "pycharm": {
     "name": "#%% md\n"
    }
   },
   "source": [
    "물론 이것이 올바르게 작동하려면 벡터의 크기가 동일해야 합니다."
   ]
  },
  {
   "cell_type": "code",
   "execution_count": 10,
   "metadata": {
    "id": "vUaKqfn6iA0y",
    "outputId": "d9db164c-9843-49a1-d30e-ebac0693f678",
    "pycharm": {
     "name": "#%%\n"
    }
   },
   "outputs": [
    {
     "name": "stdout",
     "output_type": "stream",
     "text": [
      "The error message you'll see is:\n",
      "operands could not be broadcast together with shapes (4,) (2,) \n"
     ]
    }
   ],
   "source": [
    "#try a mismatched vector operation\n",
    "c = np.array([1, 2])\n",
    "try:\n",
    "    d = a + c\n",
    "except Exception as e:\n",
    "    print(\"The error message you'll see is:\")\n",
    "    print(e)"
   ]
  },
  {
   "cell_type": "markdown",
   "metadata": {
    "id": "ncMY8eM5iA0z",
    "pycharm": {
     "name": "#%% md\n"
    }
   },
   "source": [
    "<a name=\"toc_40015_3.4.5\"></a>\n",
    "### 3.4.5 Scalar Vector operations\n",
    "벡터는 스칼라 값으로 '크기 조정'될 수 있습니다. 스칼라 값은 단지 숫자일 뿐입니다. 스칼라는 벡터의 모든 요소를 곱합니다."
   ]
  },
  {
   "cell_type": "code",
   "execution_count": 11,
   "metadata": {
    "id": "7ilDQ7i7iA0z",
    "outputId": "9e5c9466-049a-42df-e5a2-7507efc91261",
    "pycharm": {
     "name": "#%%\n"
    }
   },
   "outputs": [
    {
     "name": "stdout",
     "output_type": "stream",
     "text": [
      "b = 5 * a : [ 5 10 15 20]\n"
     ]
    }
   ],
   "source": [
    "a = np.array([1, 2, 3, 4])\n",
    "\n",
    "# multiply a by a scalar\n",
    "b = 5 * a\n",
    "print(f\"b = 5 * a : {b}\")"
   ]
  },
  {
   "cell_type": "markdown",
   "metadata": {
    "id": "dHSM1Vj7iA02",
    "pycharm": {
     "name": "#%% md\n"
    }
   },
   "source": [
    "<a name=\"toc_40015_3.4.6\"></a>\n",
    "### 3.4.6 Vector Vector dot product\n",
    "내적(dot product)은 선형 대수학(Linear Algebra)과 NumPy의 핵심입니다. 이는 이 과정에서 광범위하게 사용되는 작업이므로 잘 이해해야 합니다. 내적은 아래와 같습니다."
   ]
  },
  {
   "cell_type": "markdown",
   "metadata": {
    "id": "A4mT6wP0iA02",
    "pycharm": {
     "name": "#%% md\n"
    }
   },
   "source": [
    "<img src=\"./images/C1_W2_Lab04_dot_notrans.gif\" width=800>"
   ]
  },
  {
   "cell_type": "markdown",
   "metadata": {
    "id": "PGvkqyX4iA03",
    "pycharm": {
     "name": "#%% md\n"
    }
   },
   "source": [
    "내적은 두 벡터의 값을 요소별로 곱한 다음 결과를 합산합니다.\n",
    "벡터 내적은 두 벡터의 차원이 동일해야 합니다."
   ]
  },
  {
   "cell_type": "markdown",
   "metadata": {
    "id": "DPxmj1p3iA03",
    "pycharm": {
     "name": "#%% md\n"
    }
   },
   "source": [
    "아래 내적의 자체 버전을 구현해 보겠습니다.\n",
    "\n",
    "**for 루프를 사용하여** 두 벡터의 내적을 반환하는 함수를 구현합니다. 주어진 입력 $a$ 및 $b$를 반환하는 함수:\n",
    "$$ x = \\sum_{i=0}^{n-1} a_i b_i $$\n",
    "`a` 와 `b`가 모두 같은 모양이라고 가정합니다.\n"
   ]
  },
  {
   "cell_type": "code",
   "execution_count": 12,
   "metadata": {
    "id": "WcQXXYmQiA04",
    "pycharm": {
     "name": "#%%\n"
    }
   },
   "outputs": [],
   "source": [
    "def my_dot(a, b):\n",
    "    \"\"\"\n",
    "   Compute the dot product of two vectors\n",
    "\n",
    "    Args:\n",
    "      a (ndarray (n,)):  input vector\n",
    "      b (ndarray (n,)):  input vector with same dimension as a\n",
    "\n",
    "    Returns:\n",
    "      x (scalar):\n",
    "    \"\"\"\n",
    "    x=0\n",
    "    for i in range(a.shape[0]):\n",
    "        x = x + a[i] * b[i]\n",
    "    return x"
   ]
  },
  {
   "cell_type": "code",
   "execution_count": 13,
   "metadata": {
    "id": "pf5FQMGpiA04",
    "outputId": "e0903121-8bad-492e-d1c2-851b2b6e4e92",
    "pycharm": {
     "name": "#%%\n"
    }
   },
   "outputs": [
    {
     "name": "stdout",
     "output_type": "stream",
     "text": [
      "my_dot(a, b) = 24\n"
     ]
    }
   ],
   "source": [
    "# test 1-D\n",
    "a = np.array([1, 2, 3, 4])\n",
    "b = np.array([-1, 4, 3, 2])\n",
    "print(f\"my_dot(a, b) = {my_dot(a, b)}\")"
   ]
  },
  {
   "cell_type": "markdown",
   "metadata": {
    "id": "zWzqFCGViA05",
    "pycharm": {
     "name": "#%% md\n"
    }
   },
   "source": [
    "내적은 스칼라 값을 반환할 것으로 예상됩니다.\n",
    "\n",
    "`np.dot`을 사용하여 동일한 작업을 시도해 보겠습니다.\n"
   ]
  },
  {
   "cell_type": "code",
   "execution_count": null,
   "metadata": {
    "id": "IRij0SoNiA1L",
    "outputId": "8becb76d-f7d3-4520-c9bf-0bbb14352a1e",
    "pycharm": {
     "name": "#%%\n"
    }
   },
   "outputs": [
    {
     "name": "stdout",
     "output_type": "stream",
     "text": [
      "NumPy 1-D np.dot(a, b) = 24, np.dot(a, b).shape = () \n",
      "NumPy 1-D np.dot(b, a) = 24, np.dot(a, b).shape = () \n"
     ]
    }
   ],
   "source": [
    "# test 1-D\n",
    "a = np.array([1, 2, 3, 4])\n",
    "b = np.array([-1, 4, 3, 2])\n",
    "c = np.dot(a, b)\n",
    "print(f\"NumPy 1-D np.dot(a, b) = {c}, np.dot(a, b).shape = {c.shape} \")\n",
    "c = np.dot(b, a)\n",
    "print(f\"NumPy 1-D np.dot(b, a) = {c}, np.dot(a, b).shape = {c.shape} \")\n"
   ]
  },
  {
   "cell_type": "markdown",
   "metadata": {
    "id": "auD_20f7iA1M",
    "pycharm": {
     "name": "#%% md\n"
    }
   },
   "source": [
    "위에서 1-D 결과가 우리의 구현과 일치한다는 것을 알 수 있습니다."
   ]
  },
  {
   "cell_type": "markdown",
   "metadata": {
    "id": "GvJfLPKkiA1N",
    "pycharm": {
     "name": "#%% md\n"
    }
   },
   "source": [
    "<a name=\"toc_40015_3.4.7\"></a>\n",
    "### 3.4.7 The Need for Speed: vector vs for loop\n",
    "우리는 속도 메모리 효율성을 향상시키기 위해 NumPy 라이브러리를 활용했습니다. 다음을 보여드리겠습니다."
   ]
  },
  {
   "cell_type": "code",
   "execution_count": null,
   "metadata": {
    "id": "SzThZAG1iA1N",
    "outputId": "0d1bd657-c6ca-4f4b-e20c-cb20ff8b0691",
    "pycharm": {
     "name": "#%%\n"
    }
   },
   "outputs": [
    {
     "name": "stdout",
     "output_type": "stream",
     "text": [
      "np.dot(a, b) =  2501072.5817\n",
      "Vectorized version duration: 29.9268 ms \n",
      "my_dot(a, b) =  2501072.5817\n",
      "loop version duration: 2137.4848 ms \n"
     ]
    }
   ],
   "source": [
    "np.random.seed(1)\n",
    "a = np.random.rand(10000000)  # very large arrays\n",
    "b = np.random.rand(10000000)\n",
    "\n",
    "tic = time.time()  # capture start time\n",
    "c = np.dot(a, b)\n",
    "toc = time.time()  # capture end time\n",
    "\n",
    "print(f\"np.dot(a, b) =  {c:.4f}\")\n",
    "print(f\"Vectorized version duration: {1000*(toc-tic):.4f} ms \")\n",
    "\n",
    "tic = time.time()  # capture start time\n",
    "c = my_dot(a,b)\n",
    "toc = time.time()  # capture end time\n",
    "\n",
    "print(f\"my_dot(a, b) =  {c:.4f}\")\n",
    "print(f\"loop version duration: {1000*(toc-tic):.4f} ms \")\n",
    "\n",
    "del(a);del(b)  #remove these big arrays from memory"
   ]
  },
  {
   "cell_type": "markdown",
   "metadata": {
    "id": "ecnsJHb0iA1O",
    "pycharm": {
     "name": "#%% md\n"
    }
   },
   "source": [
    "따라서 이 예에서는 벡터화를 통해 속도가 크게 향상됩니다. 이는 NumPy가 기본 하드웨어에서 사용 가능한 데이터 병렬성을 더 잘 활용하기 때문입니다. GPU와 최신 CPU는 SIMD(Single Instruction, Multiple Data) 파이프라인을 구현하여 여러 작업을 병렬로 실행할 수 있습니다. 이는 데이터 세트가 매우 큰 경우가 많은 기계 학습에서 매우 중요합니다."
   ]
  },
  {
   "cell_type": "markdown",
   "metadata": {
    "id": "3LIMmNIKiA1Q",
    "pycharm": {
     "name": "#%% md\n"
    }
   },
   "source": [
    "<a name=\"toc_12345_3.4.8\"></a>\n",
    "### 3.4.8 Vector Vector operations in Course 1\n",
    "벡터-벡터 연산은 강좌 1에서 자주 등장합니다. 그 이유는 다음과 같습니다.\n",
    "- 앞으로 예제는 차원 (m,n)의 `X_train` 배열에 저장됩니다. 이에 대해서는 문맥을 통해 더 자세히 설명하겠지만 여기서는 이것이 2차원 배열 또는 행렬이라는 점에 유의하는 것이 중요합니다(행렬에 대한 다음 섹션 참조).\n",
    "- `w`는 (n,) 모양의 1차원 벡터가 됩니다.\n",
    "- 예제를 반복하면서 작업을 수행하고 X를 인덱싱하여 개별적으로 작업할 각 예제를 추출합니다. 예:`X[i]`\n",
    "- `X[i]`는 1차원 벡터인 (n,) 형태의 값을 반환합니다. 결과적으로 `X[i]`와 관련된 연산은 벡터-벡터인 경우가 많습니다.\n",
    "\n",
    "설명이 다소 길지만 벡터 연산을 수행할 때 피연산자의 모양을 정렬하고 이해하는 것이 중요합니다.\n"
   ]
  },
  {
   "cell_type": "code",
   "execution_count": null,
   "metadata": {
    "id": "VE149NU8iA1S",
    "outputId": "e37df951-4943-43f9-e66d-882d43b9567e",
    "pycharm": {
     "name": "#%%\n"
    }
   },
   "outputs": [
    {
     "name": "stdout",
     "output_type": "stream",
     "text": [
      "X[1] has shape (1,)\n",
      "w has shape (1,)\n",
      "c has shape ()\n"
     ]
    }
   ],
   "source": [
    "# show common Course 1 example\n",
    "X = np.array([[1],[2],[3],[4]])\n",
    "w = np.array([2])\n",
    "c = np.dot(X[1], w)\n",
    "\n",
    "print(f\"X[1] has shape {X[1].shape}\")\n",
    "print(f\"w has shape {w.shape}\")\n",
    "print(f\"c has shape {c.shape}\")"
   ]
  },
  {
   "cell_type": "markdown",
   "metadata": {
    "id": "atwR3HBAiA1S",
    "pycharm": {
     "name": "#%% md\n"
    }
   },
   "source": [
    "<a name=\"toc_40015_4\"></a>\n",
    "# 4 Matrices\n"
   ]
  },
  {
   "cell_type": "markdown",
   "metadata": {
    "id": "0ZVSJafoiA1T",
    "pycharm": {
     "name": "#%% md\n"
    }
   },
   "source": [
    "<a name=\"toc_40015_4.1\"></a>\n",
    "## 4.1 Abstract\n",
    " 행렬은 2차원 배열입니다. 행렬의 요소는 모두 동일한 유형입니다. 표기법에서 행렬은 $\\mathbf{X}$와 같이 대문자, 굵은 문자로 표시됩니다. 이 실습과 다른 실습에서 `m`은 행 수이고 `n`은 열 수인 경우가 많습니다. 행렬의 요소는 2차원 인덱스로 참조될 수 있습니다. 수학 설정에서 색인의 숫자는 일반적으로 1부터 n까지입니다. 컴퓨터 과학 및 이러한 실습에서 인덱싱은 0 에서 n-1까지 실행됩니다.\n",
    "<figure>\n",
    "    <center> <img src=\"./images/C1_W2_Lab04_Matrices.PNG\"  alt='missing'  width=900><center/>\n",
    "    <figcaption> Generic Matrix Notation, 1st index is row, 2nd is column </figcaption>\n",
    "<figure/>"
   ]
  },
  {
   "cell_type": "markdown",
   "metadata": {
    "id": "GkHZUZZDiA1T",
    "pycharm": {
     "name": "#%% md\n"
    }
   },
   "source": [
    "<a name=\"toc_40015_4.2\"></a>\n",
    "## 4.2 NumPy Arrays\n",
    "\n",
    "NumPy의 기본 데이터 구조는 동일한 유형(`dtype`)의 요소를 포함하는 색인 가능한 n차원 *배열*입니다. 이에 대해서는 앞서 설명했습니다. 행렬은 2차원(2-D) 인덱스 [m,n]을 갖습니다.\n",
    "\n",
    "코스 1에서는 훈련 데이터를 저장하기 위해 2차원 행렬이 사용됩니다. 훈련 데이터는 (m,n) 배열을 생성하는 $n$ 특징의 $m$ 예입니다. 과정 1에서는 행렬에 대해 직접 연산을 수행하지 않지만 일반적으로 예제를 벡터로 추출하여 연산합니다. 아래에서 검토할 내용은 다음과 같습니다.\n",
    "- 데이터 생성\n",
    "- 슬라이싱 및 인덱싱\n"
   ]
  },
  {
   "cell_type": "markdown",
   "metadata": {
    "id": "9kJkKn_BiA1U",
    "pycharm": {
     "name": "#%% md\n"
    }
   },
   "source": [
    "<a name=\"toc_40015_4.3\"></a>\n",
    "## 4.3 Matrix Creation\n",
    "1차원 벡터를 생성한 동일한 함수가 2차원 또는 n차원 배열을 생성합니다. 여기 몇 가지 예가 있어요\n"
   ]
  },
  {
   "cell_type": "markdown",
   "metadata": {
    "id": "ztZlpD7-iA1U",
    "pycharm": {
     "name": "#%% md\n"
    }
   },
   "source": [
    "아래에서는 2차원 결과를 얻기 위해 모양 튜플이 제공됩니다. NumPy가 대괄호를 사용하여 각 차원을 표시하는 방법에 주목하세요. NumPy보다 더 중요한 점은 인쇄할 때 한 줄에 한 행씩 인쇄한다는 것입니다."
   ]
  },
  {
   "cell_type": "code",
   "execution_count": null,
   "metadata": {
    "id": "vzaf3TFEiA1V",
    "outputId": "c7966421-0a1b-4f82-ace6-e47e31a5cb0f",
    "pycharm": {
     "name": "#%%\n"
    }
   },
   "outputs": [
    {
     "name": "stdout",
     "output_type": "stream",
     "text": [
      "a shape = (1, 5), a = [[0. 0. 0. 0. 0.]]\n",
      "a shape = (2, 1), a = [[0.]\n",
      " [0.]]\n",
      "a shape = (1, 1), a = [[0.26876787]]\n"
     ]
    }
   ],
   "source": [
    "a = np.zeros((1, 5))\n",
    "print(f\"a shape = {a.shape}, a = {a}\")\n",
    "\n",
    "a = np.zeros((2, 1))\n",
    "print(f\"a shape = {a.shape}, a = {a}\")\n",
    "\n",
    "a = np.random.random_sample((1, 1))\n",
    "print(f\"a shape = {a.shape}, a = {a}\")"
   ]
  },
  {
   "cell_type": "markdown",
   "metadata": {
    "id": "iFDyQ-owiA1V",
    "pycharm": {
     "name": "#%% md\n"
    }
   },
   "source": [
    "데이터를 수동으로 지정할 수도 있습니다. 치수는 위 인쇄 형식과 일치하는 추가 브래킷을 사용하여 지정됩니다."
   ]
  },
  {
   "cell_type": "code",
   "execution_count": null,
   "metadata": {
    "id": "fXCK32SCiA1W",
    "outputId": "2f6f2abe-48b4-45a7-918c-77ab0d74c135",
    "pycharm": {
     "name": "#%%\n"
    }
   },
   "outputs": [
    {
     "name": "stdout",
     "output_type": "stream",
     "text": [
      " a shape = (3, 1), np.array: a = [[5]\n",
      " [4]\n",
      " [3]]\n",
      " a shape = (3, 1), np.array: a = [[5]\n",
      " [4]\n",
      " [3]]\n"
     ]
    }
   ],
   "source": [
    "# NumPy routines which allocate memory and fill with user specified values\n",
    "a = np.array([[5], [4], [3]]);   print(f\" a shape = {a.shape}, np.array: a = {a}\")\n",
    "a = np.array([[5],   # One can also\n",
    "              [4],   # separate values\n",
    "              [3]]); #into separate rows\n",
    "print(f\" a shape = {a.shape}, np.array: a = {a}\")"
   ]
  },
  {
   "cell_type": "markdown",
   "metadata": {
    "id": "pn9rZYLNiA1W",
    "pycharm": {
     "name": "#%% md\n"
    }
   },
   "source": [
    "<a name=\"toc_40015_4.4\"></a>\n",
    "## 4.4 Operations on Matrices\n",
    "행렬을 사용하여 몇 가지 연산을 살펴보겠습니다."
   ]
  },
  {
   "cell_type": "markdown",
   "metadata": {
    "id": "b7tC39R7iA1X",
    "pycharm": {
     "name": "#%% md\n"
    }
   },
   "source": [
    "<a name=\"toc_40015_4.4.1\"></a>\n",
    "### 4.4.1 Indexing\n"
   ]
  },
  {
   "cell_type": "markdown",
   "metadata": {
    "id": "u7_y9gXNiA1X",
    "pycharm": {
     "name": "#%% md\n"
    }
   },
   "source": [
    "행렬에는 두 번째 인덱스가 포함됩니다. 두 개의 인덱스는 [행, 열]을 설명합니다. 액세스하면 요소 또는 행/열이 반환될 수 있습니다. 아래를 참조하세요:"
   ]
  },
  {
   "cell_type": "code",
   "execution_count": null,
   "metadata": {
    "id": "UY9Q9daZiA1Y",
    "outputId": "c7828221-9363-4788-fe70-e4d66a914620",
    "pycharm": {
     "name": "#%%\n"
    }
   },
   "outputs": [
    {
     "name": "stdout",
     "output_type": "stream",
     "text": [
      "a.shape: (3, 2), \n",
      "a= [[0 1]\n",
      " [2 3]\n",
      " [4 5]]\n",
      "\n",
      "a[2,0].shape:   (), a[2,0] = 4,     type(a[2,0]) = <class 'numpy.int64'> Accessing an element returns a scalar\n",
      "\n",
      "a[2].shape:   (2,), a[2]   = [4 5], type(a[2])   = <class 'numpy.ndarray'>\n"
     ]
    }
   ],
   "source": [
    "#vector indexing operations on matrices\n",
    "a = np.arange(6).reshape(-1, 2)   #reshape is a convenient way to create matrices\n",
    "print(f\"a.shape: {a.shape}, \\na= {a}\")\n",
    "\n",
    "#access an element\n",
    "print(f\"\\na[2,0].shape:   {a[2, 0].shape}, a[2,0] = {a[2, 0]},     type(a[2,0]) = {type(a[2, 0])} Accessing an element returns a scalar\\n\")\n",
    "\n",
    "#access a row\n",
    "print(f\"a[2].shape:   {a[2].shape}, a[2]   = {a[2]}, type(a[2])   = {type(a[2])}\")"
   ]
  },
  {
   "cell_type": "markdown",
   "metadata": {
    "id": "YSzSrE39iA1Y",
    "pycharm": {
     "name": "#%% md\n"
    }
   },
   "source": [
    "마지막 예에 주목할 가치가 있습니다. 행을 지정하여 행렬에 액세스하면 *1D 벡터*가 반환됩니다."
   ]
  },
  {
   "cell_type": "markdown",
   "metadata": {
    "id": "adReiN0ZiA1Z",
    "pycharm": {
     "name": "#%% md\n"
    }
   },
   "source": [
    "**Reshape**  \n",
    "이전 예에서는 [reshape](https://numpy.org/doc/stable/reference/generated/numpy.reshape.html)를 사용하여 배열의 모양을 만들었습니다.\n",
    "`a = np.arange(6).reshape(-1, 2) `\n",
    "이 코드 줄은 먼저 6개 요소의 *1-D 벡터*를 생성했습니다. 그런 다음 reshape 명령을 사용하여 해당 벡터를 *2D* 배열로 재구성했습니다. 이것은 다음과 같이 작성되었을 수 있습니다.\n",
    "`a = np.arange(6).reshape(3, 2)`\n",
    "동일한 3행, 2열 배열에 도달합니다.\n",
    "-1 인수는 배열 크기와 열 수에 따라 행 수를 계산하도록 루틴에 지시합니다.\n"
   ]
  },
  {
   "cell_type": "markdown",
   "metadata": {
    "id": "vLmxtg66iA1Z",
    "pycharm": {
     "name": "#%% md\n"
    }
   },
   "source": [
    "<a name=\"toc_40015_4.4.2\"></a>\n",
    "### 4.4.2 Slicing\n",
    "슬라이싱은 세 가지 값 세트(`start:stop:step`)를 사용하여 인덱스 배열을 생성합니다. 값의 하위 집합도 유효합니다. 그 사용법은 다음 예를 통해 가장 잘 설명됩니다."
   ]
  },
  {
   "cell_type": "code",
   "execution_count": null,
   "metadata": {
    "id": "x_NBtzHViA1a",
    "outputId": "ac8e96cb-b7ee-4807-b50e-26ea543c59a2",
    "pycharm": {
     "name": "#%%\n"
    }
   },
   "outputs": [
    {
     "name": "stdout",
     "output_type": "stream",
     "text": [
      "a = \n",
      "[[ 0  1  2  3  4  5  6  7  8  9]\n",
      " [10 11 12 13 14 15 16 17 18 19]]\n",
      "a[0, 2:7:1] =  [2 3 4 5 6] ,  a[0, 2:7:1].shape = (5,) a 1-D array\n",
      "a[:, 2:7:1] = \n",
      " [[ 2  3  4  5  6]\n",
      " [12 13 14 15 16]] ,  a[:, 2:7:1].shape = (2, 5) a 2-D array\n",
      "a[:,:] = \n",
      " [[ 0  1  2  3  4  5  6  7  8  9]\n",
      " [10 11 12 13 14 15 16 17 18 19]] ,  a[:,:].shape = (2, 10)\n",
      "a[1,:] =  [10 11 12 13 14 15 16 17 18 19] ,  a[1,:].shape = (10,) a 1-D array\n",
      "a[1]   =  [10 11 12 13 14 15 16 17 18 19] ,  a[1].shape   = (10,) a 1-D array\n"
     ]
    }
   ],
   "source": [
    "#vector 2-D slicing operations\n",
    "a = np.arange(20).reshape(-1, 10)\n",
    "print(f\"a = \\n{a}\")\n",
    "\n",
    "#access 5 consecutive elements (start:stop:step)\n",
    "print(\"a[0, 2:7:1] = \", a[0, 2:7:1], \",  a[0, 2:7:1].shape =\", a[0, 2:7:1].shape, \"a 1-D array\")\n",
    "\n",
    "#access 5 consecutive elements (start:stop:step) in two rows\n",
    "print(\"a[:, 2:7:1] = \\n\", a[:, 2:7:1], \",  a[:, 2:7:1].shape =\", a[:, 2:7:1].shape, \"a 2-D array\")\n",
    "\n",
    "# access all elements\n",
    "print(\"a[:,:] = \\n\", a[:,:], \",  a[:,:].shape =\", a[:,:].shape)\n",
    "\n",
    "# access all elements in one row (very common usage)\n",
    "print(\"a[1,:] = \", a[1,:], \",  a[1,:].shape =\", a[1,:].shape, \"a 1-D array\")\n",
    "# same as\n",
    "print(\"a[1]   = \", a[1],   \",  a[1].shape   =\", a[1].shape, \"a 1-D array\")\n"
   ]
  },
  {
   "cell_type": "markdown",
   "metadata": {
    "id": "rb1_oOvyiA1a",
    "pycharm": {
     "name": "#%% md\n"
    }
   },
   "source": [
    "<a name=\"toc_40015_5.0\"></a>\n",
    "## Congratulations!\n",
    "이 실습에서는 과정 1에 필요한 Python 및 NumPy 기능을 마스터했습니다."
   ]
  }
 ],
 "metadata": {
  "colab": {
   "provenance": []
  },
  "dl_toc_settings": {
   "rndtag": "40015"
  },
  "kernelspec": {
   "display_name": "Python 3 (ipykernel)",
   "language": "python",
   "name": "python3"
  },
  "language_info": {
   "codemirror_mode": {
    "name": "ipython",
    "version": 3
   },
   "file_extension": ".py",
   "mimetype": "text/x-python",
   "name": "python",
   "nbconvert_exporter": "python",
   "pygments_lexer": "ipython3",
   "version": "3.11.4"
  },
  "toc-autonumbering": false
 },
 "nbformat": 4,
 "nbformat_minor": 1
}
