{
 "cells": [
  {
   "cell_type": "markdown",
   "id": "f2d58aef",
   "metadata": {
    "tags": []
   },
   "source": [
    "# Optional Lab - Derivatives\n",
    "\n",
    "이 실습을 통해 미분에 대해 보다 직관적으로 이해할 수 있습니다. 산술적으로 미분을 계산하는 간단한 방법을 보여줍니다. 또한 미분을 기호적으로 계산할 수 있는 편리한 Python 라이브러리를 소개합니다.\n"
   ]
  },
  {
   "cell_type": "code",
   "execution_count": 1,
   "id": "fffee20a",
   "metadata": {},
   "outputs": [],
   "source": [
    "from sympy import symbols, diff"
   ]
  },
  {
   "cell_type": "markdown",
   "id": "ca988616",
   "metadata": {},
   "source": [
    "## Informal definition of derivatives"
   ]
  },
  {
   "cell_type": "markdown",
   "id": "da1620fb",
   "metadata": {},
   "source": [
    "미분의 공식적인 정의는 '0으로 가는' 한계와 값으로 인해 다소 어려울 수 있습니다. 아이디어는 정말 훨씬 간단합니다.\n",
    "\n",
    "함수의 미분는 입력 변수에 작은 변화가 있을 때 함수의 출력이 어떻게 변경되는지를 설명합니다.\n",
    "\n",
    "비용 함수 $J(w)$를 예로 들어 보겠습니다. 비용 $J$는 출력이고 $w$는 입력 변수입니다.\n",
    "'작은 변화'에 이름을 *epsilon* 또는 $\\epsilon$로 지정해 보겠습니다. 수학에서는 *epsilon*($\\epsilon$) 또는 *delta*($\\Delta$)를 사용하여 작은 값을 나타내는 것이 전통적이기 때문에 이러한 그리스 문자를 사용합니다. 0.001이나 다른 작은 값을 나타내는 것으로 생각할 수 있습니다.\n",
    "\n",
    "$$\n",
    "\\begin{equation}\n",
    "\\text{if } w \\uparrow \\epsilon \\text{ causes }J(w) \\uparrow \\text{by }k \\times \\epsilon \\text{ then}  \\\\\n",
    "\\frac{\\partial J(w)}{\\partial w} = k \\tag{1}\n",
    "\\end{equation}\n",
    "$$\n",
    "\n",
    "이는 $J(w)$ 함수에 대한 입력을 조금씩 변경하고, 출력이 $k$ 배만큼 변경되면 $J(w)$의 미분은 $k$와 같다는 것을 의미합니다. .\n",
    "\n",
    "이것을 시험해 봅시다. $w=3$ 및 $\\epsilon = 0.001$ 지점에서 $J(w) = w^2$ 함수의 미분을 살펴보겠습니다."
   ]
  },
  {
   "cell_type": "code",
   "execution_count": 2,
   "id": "0877836e",
   "metadata": {},
   "outputs": [
    {
     "name": "stdout",
     "output_type": "stream",
     "text": [
      "J = 9, J_epsilon = 9.006001, dJ_dw ~= k = 6.001000 \n"
     ]
    }
   ],
   "source": [
    "J = (3)**2\n",
    "J_epsilon = (3 + 0.001)**2\n",
    "k = (J_epsilon - J)/0.001    # difference divided by epsilon\n",
    "print(f\"J = {J}, J_epsilon = {J_epsilon}, dJ_dw ~= k = {k:0.6f} \")"
   ]
  },
  {
   "cell_type": "markdown",
   "id": "1d8e6920",
   "metadata": {},
   "source": [
    "입력 값을 약간(0.001) 증가시켜 출력이 9에서 9.006001로 변경되어 입력 증가의 6배가 증가하게 되었습니다. 위의 (1)을 참조하면 $k=6$이므로 $\\frac{\\partial J(w)}{\\partial w} \\approx 6$입니다. 미적분학에 익숙하다면 $\\frac{\\partial J(w)}{\\partial w} = 2 w$를 기호로 표현한 것을 알 수 있습니다. $w=3$이면 이는 6입니다. 위의 계산은 정확히 6이 아닙니다. 정확히 맞으려면 $\\epsilon$이 [무한히 작아야](https://www.dictionary.com/browse/infinitesimally) 하기 때문입니다. 정말, 정말 작습니다. 이것이 바로 = 대신 $\\approx$ 또는 ~= 기호를 사용하는 이유입니다. $\\epsilon$을 더 작게 만들면 어떤 일이 일어나는지 봅시다.\n"
   ]
  },
  {
   "cell_type": "code",
   "execution_count": 3,
   "id": "ec09b573",
   "metadata": {},
   "outputs": [
    {
     "name": "stdout",
     "output_type": "stream",
     "text": [
      "J = 9, J_epsilon = 9.000000006, dJ_dw ~= k = 6.000000496442226 \n"
     ]
    }
   ],
   "source": [
    "J = (3)**2\n",
    "J_epsilon = (3 + 0.000000001)**2\n",
    "k = (J_epsilon - J)/0.000000001\n",
    "print(f\"J = {J}, J_epsilon = {J_epsilon}, dJ_dw ~= k = {k} \")"
   ]
  },
  {
   "cell_type": "markdown",
   "id": "6b58047e",
   "metadata": {},
   "source": [
    "$\\epsilon$의 크기를 줄이면 값은 정확히 6에 가까워집니다. 값을 더 줄여보세요."
   ]
  },
  {
   "cell_type": "markdown",
   "id": "8f7b135c",
   "metadata": {},
   "source": [
    "## Finding symbolic derivatives\n",
    "\n",
    "역전파에서는 임의의 입력 값에서 간단한 함수의 도함수를 아는 것이 유용합니다. 다르게 말하면, 우리는 '산술' 도함수보다는 '기호' 도함수를 알고 싶습니다. 기호 도함수의 예는 위의 $J(w) = w^2$의 도함수인 $\\frac{\\partial J(w)}{\\partial w} = 2 w$입니다. 기호 도함수를 사용하면 모든 입력 값 $w$에서 도함수 값을 찾을 수 있습니다.\n",
    "\n",
    "미적분학 강좌를 수강했다면 수학자들이 주어진 식에 대한 도함수를 풀기 위해 개발한 다양한 [미분 규칙](https://en.wikipedia.org/wiki/Differentiation_rules#Power_laws,_polynomials,_quotients,_and_reciprocals)에 익숙할 것입니다. 음, 이 과정은 기호형 미분(symbolic differentiation) 프로그램을 통해 자동화된 것으로 밝혀졌습니다. Python에서 이에 대한 예는 [SymPy](https://www.sympy.org/en/index.html) 라이브러리입니다. 이것을 어떻게 사용하는지 살펴보겠습니다."
   ]
  },
  {
   "cell_type": "markdown",
   "id": "dada7e3c",
   "metadata": {},
   "source": [
    "### $J = w^2$\n",
    "Python 변수와 해당 기호 이름을 정의합니다."
   ]
  },
  {
   "cell_type": "code",
   "execution_count": 4,
   "id": "535fbe14",
   "metadata": {},
   "outputs": [],
   "source": [
    "J, w = symbols('J, w')"
   ]
  },
  {
   "cell_type": "markdown",
   "id": "4dd1b238",
   "metadata": {},
   "source": [
    "식을 정의하고 프린트합니다. 참고: SymPy는 읽기 쉬운 방정식을 생성하는 [latex](https://en.wikibooks.org/wiki/LaTeX/Mathematics) 문자열을 생성합니다."
   ]
  },
  {
   "cell_type": "code",
   "execution_count": 5,
   "id": "719de596",
   "metadata": {},
   "outputs": [
    {
     "data": {
      "text/latex": [
       "$\\displaystyle w^{2}$"
      ],
      "text/plain": [
       "w**2"
      ]
     },
     "execution_count": 5,
     "metadata": {},
     "output_type": "execute_result"
    }
   ],
   "source": [
    "J=w**2\n",
    "J"
   ]
  },
  {
   "cell_type": "markdown",
   "id": "346c1a10",
   "metadata": {},
   "source": [
    "$w$와 관련하여 $J$의 표현식을 구별하려면 SymPy의 `diff`를 사용하십시오. 결과는 이전 예제와 일치합니다.\n"
   ]
  },
  {
   "cell_type": "code",
   "execution_count": 6,
   "id": "e48967d8",
   "metadata": {},
   "outputs": [
    {
     "data": {
      "text/latex": [
       "$\\displaystyle 2 w$"
      ],
      "text/plain": [
       "2*w"
      ]
     },
     "execution_count": 6,
     "metadata": {},
     "output_type": "execute_result"
    }
   ],
   "source": [
    "dJ_dw = diff(J,w)\n",
    "dJ_dw"
   ]
  },
  {
   "cell_type": "markdown",
   "id": "51ccf269",
   "metadata": {},
   "source": [
    "기호의 값을 숫자 값으로 '대체'하여 몇 가지 지점에서 도함수를 평가합니다. 첫 번째 예에서는 $w$가 $2$로 대체됩니다."
   ]
  },
  {
   "cell_type": "code",
   "execution_count": 7,
   "id": "e01fb3b6",
   "metadata": {},
   "outputs": [
    {
     "data": {
      "text/latex": [
       "$\\displaystyle 4$"
      ],
      "text/plain": [
       "4"
      ]
     },
     "execution_count": 7,
     "metadata": {},
     "output_type": "execute_result"
    }
   ],
   "source": [
    "dJ_dw.subs([(w,2)])    # derivative at the point w = 2"
   ]
  },
  {
   "cell_type": "code",
   "execution_count": 8,
   "id": "5400ec05",
   "metadata": {
    "scrolled": true
   },
   "outputs": [
    {
     "data": {
      "text/latex": [
       "$\\displaystyle 6$"
      ],
      "text/plain": [
       "6"
      ]
     },
     "execution_count": 8,
     "metadata": {},
     "output_type": "execute_result"
    }
   ],
   "source": [
    "dJ_dw.subs([(w,3)])    # derivative at the point w = 3"
   ]
  },
  {
   "cell_type": "code",
   "execution_count": 9,
   "id": "9ae7b2d4",
   "metadata": {},
   "outputs": [
    {
     "data": {
      "text/latex": [
       "$\\displaystyle -6$"
      ],
      "text/plain": [
       "-6"
      ]
     },
     "execution_count": 9,
     "metadata": {},
     "output_type": "execute_result"
    }
   ],
   "source": [
    "dJ_dw.subs([(w,-3)])    # derivative at the point w = -3"
   ]
  },
  {
   "cell_type": "markdown",
   "id": "96f1af5a",
   "metadata": {},
   "source": [
    "## $J = 2w$"
   ]
  },
  {
   "cell_type": "code",
   "execution_count": 10,
   "id": "1ed87afb",
   "metadata": {
    "tags": []
   },
   "outputs": [],
   "source": [
    "w, J = symbols('w, J')"
   ]
  },
  {
   "cell_type": "code",
   "execution_count": 11,
   "id": "4af08b60",
   "metadata": {},
   "outputs": [
    {
     "data": {
      "text/latex": [
       "$\\displaystyle 2 w$"
      ],
      "text/plain": [
       "2*w"
      ]
     },
     "execution_count": 11,
     "metadata": {},
     "output_type": "execute_result"
    }
   ],
   "source": [
    "J = 2 * w\n",
    "J"
   ]
  },
  {
   "cell_type": "code",
   "execution_count": 12,
   "id": "7039082a",
   "metadata": {
    "tags": []
   },
   "outputs": [
    {
     "data": {
      "text/latex": [
       "$\\displaystyle 2$"
      ],
      "text/plain": [
       "2"
      ]
     },
     "execution_count": 12,
     "metadata": {},
     "output_type": "execute_result"
    }
   ],
   "source": [
    "dJ_dw = diff(J,w)\n",
    "dJ_dw"
   ]
  },
  {
   "cell_type": "code",
   "execution_count": 13,
   "id": "13b25a41",
   "metadata": {},
   "outputs": [
    {
     "data": {
      "text/latex": [
       "$\\displaystyle 2$"
      ],
      "text/plain": [
       "2"
      ]
     },
     "execution_count": 13,
     "metadata": {},
     "output_type": "execute_result"
    }
   ],
   "source": [
    "dJ_dw.subs([(w,-3)])    # derivative at the point w = -3"
   ]
  },
  {
   "cell_type": "markdown",
   "id": "a3948137",
   "metadata": {},
   "source": [
    "이것을 산술 계산과 비교해보세요"
   ]
  },
  {
   "cell_type": "code",
   "execution_count": 14,
   "id": "42f0150f",
   "metadata": {},
   "outputs": [
    {
     "name": "stdout",
     "output_type": "stream",
     "text": [
      "J = 6, J_epsilon = 6.002, dJ_dw ~= k = 1.9999999999997797 \n"
     ]
    }
   ],
   "source": [
    "J = 2*3\n",
    "J_epsilon = 2*(3 + 0.001)\n",
    "k = (J_epsilon - J)/0.001\n",
    "print(f\"J = {J}, J_epsilon = {J_epsilon}, dJ_dw ~= k = {k} \")"
   ]
  },
  {
   "cell_type": "markdown",
   "id": "c9e5049f",
   "metadata": {},
   "source": [
    "$J=2w$ 함수의 경우 $w$의 모든 변경은 $w$의 시작 값에 관계없이 출력 $J$의 변경량의 2배가 된다는 것을 쉽게 알 수 있습니다. NumPy와 산술 결과가 이를 확인합니다.\n"
   ]
  },
  {
   "cell_type": "markdown",
   "id": "963cd4f7",
   "metadata": {},
   "source": [
    "## $J = w^3$"
   ]
  },
  {
   "cell_type": "code",
   "execution_count": 15,
   "id": "d63be72a",
   "metadata": {},
   "outputs": [],
   "source": [
    "J, w = symbols('J, w')"
   ]
  },
  {
   "cell_type": "code",
   "execution_count": 16,
   "id": "873fff21",
   "metadata": {},
   "outputs": [
    {
     "data": {
      "text/latex": [
       "$\\displaystyle w^{3}$"
      ],
      "text/plain": [
       "w**3"
      ]
     },
     "execution_count": 16,
     "metadata": {},
     "output_type": "execute_result"
    }
   ],
   "source": [
    "J=w**3\n",
    "J"
   ]
  },
  {
   "cell_type": "code",
   "execution_count": 17,
   "id": "4929b00b",
   "metadata": {},
   "outputs": [
    {
     "data": {
      "text/latex": [
       "$\\displaystyle 3 w^{2}$"
      ],
      "text/plain": [
       "3*w**2"
      ]
     },
     "execution_count": 17,
     "metadata": {},
     "output_type": "execute_result"
    }
   ],
   "source": [
    "dJ_dw = diff(J,w)\n",
    "dJ_dw"
   ]
  },
  {
   "cell_type": "code",
   "execution_count": 18,
   "id": "ac51cb1d",
   "metadata": {},
   "outputs": [
    {
     "data": {
      "text/latex": [
       "$\\displaystyle 12$"
      ],
      "text/plain": [
       "12"
      ]
     },
     "execution_count": 18,
     "metadata": {},
     "output_type": "execute_result"
    }
   ],
   "source": [
    "dJ_dw.subs([(w,2)])   # derivative at the point w=2"
   ]
  },
  {
   "cell_type": "markdown",
   "id": "781a13f0",
   "metadata": {},
   "source": [
    "이것을 산술 계산과 비교해보세요"
   ]
  },
  {
   "cell_type": "code",
   "execution_count": 19,
   "id": "bc28ef85",
   "metadata": {},
   "outputs": [
    {
     "name": "stdout",
     "output_type": "stream",
     "text": [
      "J = 8, J_epsilon = 8.012006000999998, dJ_dw ~= k = 12.006000999997823 \n"
     ]
    }
   ],
   "source": [
    "J = (2)**3\n",
    "J_epsilon = (2+0.001)**3\n",
    "k = (J_epsilon - J)/0.001\n",
    "print(f\"J = {J}, J_epsilon = {J_epsilon}, dJ_dw ~= k = {k} \")"
   ]
  },
  {
   "cell_type": "markdown",
   "id": "f1bf089d",
   "metadata": {},
   "source": [
    "## $J = \\frac{1}{w}$"
   ]
  },
  {
   "cell_type": "code",
   "execution_count": 20,
   "id": "1d45b807",
   "metadata": {},
   "outputs": [],
   "source": [
    "J, w = symbols('J, w')"
   ]
  },
  {
   "cell_type": "code",
   "execution_count": 21,
   "id": "b830ad18",
   "metadata": {},
   "outputs": [
    {
     "data": {
      "text/latex": [
       "$\\displaystyle \\frac{1}{w}$"
      ],
      "text/plain": [
       "1/w"
      ]
     },
     "execution_count": 21,
     "metadata": {},
     "output_type": "execute_result"
    }
   ],
   "source": [
    "J= 1/w\n",
    "J"
   ]
  },
  {
   "cell_type": "code",
   "execution_count": 22,
   "id": "592bec0b",
   "metadata": {},
   "outputs": [
    {
     "data": {
      "text/latex": [
       "$\\displaystyle - \\frac{1}{w^{2}}$"
      ],
      "text/plain": [
       "-1/w**2"
      ]
     },
     "execution_count": 22,
     "metadata": {},
     "output_type": "execute_result"
    }
   ],
   "source": [
    "dJ_dw = diff(J,w)\n",
    "dJ_dw"
   ]
  },
  {
   "cell_type": "code",
   "execution_count": 23,
   "id": "a4d70ef6",
   "metadata": {},
   "outputs": [
    {
     "data": {
      "text/latex": [
       "$\\displaystyle - \\frac{1}{4}$"
      ],
      "text/plain": [
       "-1/4"
      ]
     },
     "execution_count": 23,
     "metadata": {},
     "output_type": "execute_result"
    }
   ],
   "source": [
    "dJ_dw.subs([(w,2)])"
   ]
  },
  {
   "cell_type": "markdown",
   "id": "e93ef844",
   "metadata": {},
   "source": [
    "이것을 산술 계산과 비교해보세요"
   ]
  },
  {
   "cell_type": "code",
   "execution_count": 24,
   "id": "a8768c2c",
   "metadata": {},
   "outputs": [
    {
     "name": "stdout",
     "output_type": "stream",
     "text": [
      "J = 0.5, J_epsilon = 0.49975012493753124, dJ_dw ~= k = -0.2498750624687629 \n"
     ]
    }
   ],
   "source": [
    "J = 1/2\n",
    "J_epsilon = 1/(2+0.001)\n",
    "k = (J_epsilon - J)/0.001\n",
    "print(f\"J = {J}, J_epsilon = {J_epsilon}, dJ_dw ~= k = {k} \")"
   ]
  },
  {
   "cell_type": "markdown",
   "id": "667f834e",
   "metadata": {},
   "source": [
    "## $J = \\frac{1}{w^2}$"
   ]
  },
  {
   "cell_type": "code",
   "execution_count": 25,
   "id": "4b97e1e4",
   "metadata": {},
   "outputs": [],
   "source": [
    "J, w = symbols('J, w')"
   ]
  },
  {
   "cell_type": "markdown",
   "id": "32f9cf0f",
   "metadata": {},
   "source": [
    "시간이 있으면 $J = \\frac{1}{w^2}$ 함수에 대해 위 단계를 반복하고 w=4에서 평가해 보세요."
   ]
  },
  {
   "cell_type": "code",
   "execution_count": 26,
   "id": "cfb33316",
   "metadata": {},
   "outputs": [],
   "source": [
    "J, w = symbols('J, w')"
   ]
  },
  {
   "cell_type": "code",
   "execution_count": 27,
   "id": "efe8cae2",
   "metadata": {},
   "outputs": [
    {
     "data": {
      "text/latex": [
       "$\\displaystyle \\frac{1}{w^{2}}$"
      ],
      "text/plain": [
       "w**(-2)"
      ]
     },
     "execution_count": 27,
     "metadata": {},
     "output_type": "execute_result"
    }
   ],
   "source": [
    "J= 1/(w**2)\n",
    "J"
   ]
  },
  {
   "cell_type": "code",
   "execution_count": 28,
   "id": "aad2f3b5",
   "metadata": {},
   "outputs": [
    {
     "data": {
      "text/latex": [
       "$\\displaystyle - \\frac{2}{w^{3}}$"
      ],
      "text/plain": [
       "-2/w**3"
      ]
     },
     "execution_count": 28,
     "metadata": {},
     "output_type": "execute_result"
    }
   ],
   "source": [
    "dJ_dw = diff(J,w)\n",
    "dJ_dw"
   ]
  },
  {
   "cell_type": "code",
   "execution_count": 29,
   "id": "12638403",
   "metadata": {},
   "outputs": [
    {
     "data": {
      "text/latex": [
       "$\\displaystyle - \\frac{1}{32}$"
      ],
      "text/plain": [
       "-1/32"
      ]
     },
     "execution_count": 29,
     "metadata": {},
     "output_type": "execute_result"
    }
   ],
   "source": [
    "dJ_dw.subs([(w,4)])"
   ]
  },
  {
   "cell_type": "markdown",
   "id": "110c8fba",
   "metadata": {},
   "source": [
    "이것을 산술 계산과 비교해보세요"
   ]
  },
  {
   "cell_type": "code",
   "execution_count": 31,
   "id": "92cb647b",
   "metadata": {},
   "outputs": [
    {
     "name": "stdout",
     "output_type": "stream",
     "text": [
      "J = 0.0625, J_epsilon = 0.06246876171484496, dJ_dw ~= k = -0.031238285155041345 \n"
     ]
    }
   ],
   "source": [
    "J = 1/4**2\n",
    "J_epsilon = 1/(4+0.001)**2\n",
    "k = (J_epsilon - J)/0.001\n",
    "print(f\"J = {J}, J_epsilon = {J_epsilon}, dJ_dw ~= k = {k} \")"
   ]
  },
  {
   "cell_type": "markdown",
   "id": "cd484ee8",
   "metadata": {},
   "source": [
    "<details>\n",
    "  <summary><font size=\"3\" color=\"darkgreen\"><b>Click for hints</b></font></summary>\n",
    "    \n",
    "```python \n",
    "J= 1/w**2\n",
    "dJ_dw = diff(J,w)\n",
    "dJ_dw.subs([(w,4)])\n",
    "```\n",
    "  \n",
    "\n",
    "</details>\n",
    "\n",
    "    \n"
   ]
  },
  {
   "cell_type": "markdown",
   "id": "da334400",
   "metadata": {},
   "source": [
    "## Congratulations!\n",
    "위의 예를 살펴보았다면 미분은 해당 함수에 대한 입력의 작은 변화로 인한 함수 출력의 변화를 설명한다는 것을 이해하게 되었습니다. 또한 Python에서 *SymPy*를 사용하여 함수의 기호형 미분을 찾을 수도 있습니다.\n"
   ]
  },
  {
   "cell_type": "code",
   "execution_count": null,
   "id": "24a73f1a",
   "metadata": {},
   "outputs": [],
   "source": []
  }
 ],
 "metadata": {
  "kernelspec": {
   "display_name": "Python 3 (ipykernel)",
   "language": "python",
   "name": "python3"
  },
  "language_info": {
   "codemirror_mode": {
    "name": "ipython",
    "version": 3
   },
   "file_extension": ".py",
   "mimetype": "text/x-python",
   "name": "python",
   "nbconvert_exporter": "python",
   "pygments_lexer": "ipython3",
   "version": "3.8.18"
  }
 },
 "nbformat": 4,
 "nbformat_minor": 5
}
